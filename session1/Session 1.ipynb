{
 "cells": [
  {
   "cell_type": "markdown",
   "metadata": {},
   "source": [
    "# Week 1: Meeting Date: 12/13/2017\n",
    "## Goals: \n",
    "1. Get introducded to machine learning terminologies.\n",
    "2. The steps involved in building any machine learning model\n",
    "3. Problems involved in applying machine learning\n",
    "\n",
    "Study Resources:\n",
    "1. [Machine Learning - A Probabilistic Perspective](http://www.cs.ubc.ca/~murphyk/MLbook/pml-intro-5nov11.pdf)\n",
    "2. [Hands On Machine Learning](https://www.safaribooksonline.com/library/view/hands-on-machine-learning/9781491962282/ch01.html) (Requires access to safari books online)"
   ]
  },
  {
   "cell_type": "markdown",
   "metadata": {},
   "source": [
    "\n",
    "## Goal of Machine Learning\n",
    "The goal of machine learning is to develop methods that\n",
    "can automatically detect patterns in data, and then to use the uncovered patterns to predict\n",
    "future data or other outcomes of interest.\n",
    "\n",
    "Fields Ripe for applying Machine Learning(includes but not limited to)\n",
    "1. Computer Vision\n",
    "2. Robotics\n",
    "3. Text Processing(Natural Language Processing)\n"
   ]
  },
  {
   "cell_type": "markdown",
   "metadata": {},
   "source": [
    "## What is needed?\n",
    "Machine Learning is less fun without understanding the math behind the algorithms. Although, it is not the objective of this study group to delve into the math, it certainly can act as a helpful resource for motivated people.\n",
    "\n",
    "In that vein, here are the math topics that you might want to start learning.\n",
    "1. Multivariate Calculus\n",
    "2. Probability\n",
    "3. Linear Algebra\n",
    "4. Basic Computer Programming"
   ]
  },
  {
   "cell_type": "code",
   "execution_count": null,
   "metadata": {
    "collapsed": true
   },
   "outputs": [],
   "source": [
    " "
   ]
  },
  {
   "cell_type": "markdown",
   "metadata": {},
   "source": [
    "## Problems in Machine Learning\n",
    "1. Long Tail Problem\n",
    "\n",
    "[Source: http://www.longtail.com/about.html](http://www.longtail.com/about.html)"
   ]
  },
  {
   "cell_type": "markdown",
   "metadata": {},
   "source": [
    "![alt text](https://github.com/adam-p/markdown-here/raw/master/src/common/images/icon48.png \"Logo Title Text 1\")\n",
    "![Long Tail Problem](/Users/amadhavan1/dev/ml-study-group/resources/images/Long_Tail_Problem.jpg \"Title\")"
   ]
  },
  {
   "cell_type": "code",
   "execution_count": null,
   "metadata": {
    "collapsed": true
   },
   "outputs": [],
   "source": []
  }
 ],
 "metadata": {
  "kernelspec": {
   "display_name": "Python 2",
   "language": "python",
   "name": "python2"
  },
  "language_info": {
   "codemirror_mode": {
    "name": "ipython",
    "version": 2
   },
   "file_extension": ".py",
   "mimetype": "text/x-python",
   "name": "python",
   "nbconvert_exporter": "python",
   "pygments_lexer": "ipython2",
   "version": "2.7.14"
  }
 },
 "nbformat": 4,
 "nbformat_minor": 2
}
