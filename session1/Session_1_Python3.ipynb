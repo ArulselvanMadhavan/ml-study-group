{
 "cells": [
  {
   "cell_type": "markdown",
   "metadata": {},
   "source": [
    "# Week 1: Meeting Date: 12/13/2017\n",
    "## Goals: \n",
    "1. Get introduced to machine learning terminologies.\n",
    "2. The steps involved in building any machine learning model\n",
    "3. Problems involved in applying machine learning\n",
    "\n",
    "Study Resources:\n",
    "1. [Machine Learning - A Probabilistic Perspective](http://www.cs.ubc.ca/~murphyk/MLbook/pml-intro-5nov11.pdf)\n",
    "2. [Hands On Machine Learning](https://www.safaribooksonline.com/library/view/hands-on-machine-learning/9781491962282/ch01.html) (Requires access to safari books online)"
   ]
  },
  {
   "cell_type": "markdown",
   "metadata": {},
   "source": [
    "\n",
    "## Goal of Machine Learning\n",
    "The goal of machine learning is to develop methods that\n",
    "can automatically detect patterns in data, and then to use the uncovered patterns to predict\n",
    "future data or other outcomes of interest."
   ]
  },
  {
   "cell_type": "markdown",
   "metadata": {},
   "source": [
    "## Applications\n",
    "Fields Ripe for applying Machine Learning(includes but not limited to)\n",
    "1. Computer Vision\n",
    "2. Robotics\n",
    "3. Text Processing(Natural Language Processing)\n",
    "\n",
    "Almost any field that you can think of right now, has machine learning applied to it in one form or the other. Although the complexity of the algorithms involved in them may vary."
   ]
  },
  {
   "cell_type": "markdown",
   "metadata": {},
   "source": [
    "## What is needed?\n",
    "Machine Learning is less fun without understanding the math behind the algorithms. Although, it is not the objective of this study group to delve into the math, it certainly can act as a helpful resource for motivated people.\n",
    "\n",
    "In that vein, here are the math topics that you might want to start learning.\n",
    "1. Multivariate Calculus\n",
    "2. Probability\n",
    "3. Linear Algebra\n",
    "4. Basic Computer Programming"
   ]
  },
  {
   "cell_type": "markdown",
   "metadata": {},
   "source": [
    "## Lets look at some of the Machine Learning terms by building a machine learning model\n",
    "1. Dataset\n",
    "2. Features\n",
    "3. Labels\n",
    "4. Classification vs Regression"
   ]
  },
  {
   "cell_type": "code",
   "execution_count": 1,
   "metadata": {
    "collapsed": true
   },
   "outputs": [],
   "source": [
    "## Load Sample dataset\n",
    "from sklearn.datasets import fetch_mldata\n",
    "# Dataset - D\n",
    "\n",
    "## First time users run this.\n",
    "# D = fetch_mldata(\"MNIST original\", data_home=\"../data\") #Takes a long time.\n",
    "# X = D[\"data\"]\n",
    "# y = D[\"target\"]\n",
    "\n",
    "## Returning users run this\n",
    "import scipy.io\n",
    "D = scipy.io.loadmat(\"../data/mldata/mnist-original.mat\")\n",
    "X = D[\"data\"]\n",
    "y = D[\"label\"]\n",
    "X = X.T\n",
    "y = y.T"
   ]
  },
  {
   "cell_type": "markdown",
   "metadata": {},
   "source": [
    "1. Features - Attributes of the input data(aka Attributes or Covariates)\n",
    "2. Labels - Target(aka Result/Truth)\n",
    "3. Common Convention is to call features as X and labels as y"
   ]
  },
  {
   "cell_type": "code",
   "execution_count": null,
   "metadata": {},
   "outputs": [],
   "source": [
    "print(\"Feature Shape\", X.shape)\n",
    "print(\"Target Matrix shape\", y.shape)"
   ]
  },
  {
   "cell_type": "code",
   "execution_count": null,
   "metadata": {},
   "outputs": [],
   "source": [
    "print(\"Viewing a single input of shape(1,784).\\n\", X[0])"
   ]
  },
  {
   "cell_type": "markdown",
   "metadata": {},
   "source": [
    "## Question\n",
    "1. What can you infer from this sample datapoint? Try to infer as many patterns/characteristics/attributes as possible"
   ]
  },
  {
   "cell_type": "code",
   "execution_count": null,
   "metadata": {},
   "outputs": [],
   "source": [
    "print(\"Label for the same input\", y[0])\n",
    "print(\"Labels for some more input\", y[:10000])"
   ]
  },
  {
   "cell_type": "markdown",
   "metadata": {},
   "source": [
    "### 1. Numbers are hard to interpret by humans but machines prefer to interpret numbers\n",
    "### 2. A very common, important and most time consuming first step to build any machine learning model is to analyze the data to make reasonable inferences about the data we are working with. Visual Analysis is often preferred as a first step because humans can quickly interpret them."
   ]
  },
  {
   "cell_type": "code",
   "execution_count": null,
   "metadata": {},
   "outputs": [],
   "source": [
    "%matplotlib inline\n",
    "import matplotlib\n",
    "import matplotlib.pyplot as plt\n",
    "\n",
    "def display_image(img):\n",
    "    some_digit = img\n",
    "    some_digit_image = some_digit.reshape(28, 28)\n",
    "    plt.imshow(some_digit_image, cmap = matplotlib.cm.binary,\n",
    "           interpolation=\"nearest\")\n",
    "    plt.axis(\"off\")\n",
    "    plt.show()\n",
    "\n",
    "display_image(X[0])"
   ]
  },
  {
   "cell_type": "markdown",
   "metadata": {},
   "source": [
    "## Training Set\n",
    "Usually a portion of the dataset(D) that is reserved for training the ML model.\n",
    "## Test Set\n",
    "Usually a portion of the dataset(D) that is reserved for testing the ML model.\n",
    "\n",
    "Note: \n",
    "1. Training Set and Test set should be mutually exclusive.\n",
    "2. There are different ways to prepare this training set and test set. Most common one is called cross validation folds. We will discuss this later."
   ]
  },
  {
   "cell_type": "code",
   "execution_count": null,
   "metadata": {
    "collapsed": true
   },
   "outputs": [],
   "source": [
    "X_train, X_test, y_train, y_test = X[:60000], X[60000:], y[:60000], y[60000:]"
   ]
  },
  {
   "cell_type": "markdown",
   "metadata": {},
   "source": [
    "### Question: \n",
    "1. What is the size of this training data and target?\n",
    "2. What is the size of the test data and target?"
   ]
  },
  {
   "cell_type": "markdown",
   "metadata": {
    "collapsed": true
   },
   "source": [
    "## Classification vs Regression\n",
    "1. Output Variables can in principle be anything, but if they fall within a finite set of classes - we call it a categorial variable or nominal variable - Classfication\n",
    "2. If the output variable is real values then the machine learning model is called a Regression."
   ]
  },
  {
   "cell_type": "code",
   "execution_count": null,
   "metadata": {},
   "outputs": [],
   "source": [
    "import numpy as np\n",
    "np.unique(y)"
   ]
  },
  {
   "cell_type": "markdown",
   "metadata": {},
   "source": [
    "## Question:\n",
    "1. What do we have here? Classification Problem or Regression Problem?"
   ]
  },
  {
   "cell_type": "code",
   "execution_count": null,
   "metadata": {
    "collapsed": true
   },
   "outputs": [],
   "source": [
    "#Earlier we had mentioned that there are multiple ways to prepare the train data and test data.\n",
    "#What we have below is the most naive way. \n",
    "#A random shuffle.\n",
    "shuffle_index = np.random.permutation(60000) #Shuffle numbers 0 to 59999\n",
    "X_train, y_train = X_train[shuffle_index], y_train[shuffle_index] #Shuffle the train data"
   ]
  },
  {
   "cell_type": "markdown",
   "metadata": {},
   "source": [
    "## Questions\n",
    "1. Why do we have to shuffle the data?\n",
    "2. You see the training data shuffled here. Should we shuffle the test_data too?"
   ]
  },
  {
   "cell_type": "markdown",
   "metadata": {},
   "source": [
    "### Lets the following learn from building a Machine Learning Model"
   ]
  },
  {
   "cell_type": "markdown",
   "metadata": {},
   "source": [
    "1. Classifier\n",
    "2. Binary Classifiers\n",
    "3. MultiClass Classifier.\n",
    "3. MultiLabel Classifier\n",
    "4. MultiOutput Classifier"
   ]
  },
  {
   "cell_type": "markdown",
   "metadata": {},
   "source": [
    "## Question\n",
    "1. Just by looking at the names above, can you guess what's the difference in the output produced by these classifiers?"
   ]
  },
  {
   "cell_type": "markdown",
   "metadata": {},
   "source": [
    "## Machine Learning model\n",
    "The term \"model\" is one of the overused and least described terms in ML. A Model is a system that has been \"trained\" to detect patterns from a dataset and is ready to make predictions on any input.\n",
    "\n",
    "Lets look at a very simple, hand wavy version of model.\n",
    "\n",
    "You might have seen posts in so many useless social media sites like the one shown below:\n",
    "\n",
    "If f(9, 3) = 21, f(6,9) = 21, f(3, 8) = 14, What is f(4,5)?\n",
    "The human mind is so fast to recognize the pattern from the three data points and three target values, our human mind is so quick to recognize the pattern and predict the answer 13. It also correctly \"learns\" that the underlying function producing the pattern is \"f(x,y) = 2x + y\".\n",
    "\n",
    "Think of the ML model as something that can learn this on a really huge dataset"
   ]
  },
  {
   "cell_type": "code",
   "execution_count": null,
   "metadata": {},
   "outputs": [],
   "source": [
    "from sklearn.linear_model import SGDClassifier #Stochastic Gradient Classifier. Don't worry about this now.\n",
    "from sklearn.preprocessing import StandardScaler"
   ]
  },
  {
   "cell_type": "code",
   "execution_count": null,
   "metadata": {},
   "outputs": [],
   "source": [
    "scaler = StandardScaler()\n",
    "sgd = SGDClassifier(random_state=13, verbose=1)\n",
    "X_train_scaled = scaler.fit_transform(X_train.astype(np.float64))\n",
    "sgd.fit(X_train, y_train)"
   ]
  },
  {
   "cell_type": "markdown",
   "metadata": {},
   "source": [
    "## Lets look at all the parameters to a typical ML model\n",
    "The above steps spits out a bunch of words that are new and alien.\n",
    "\n",
    "They are ordered in terms of importance. Items marked as * requires a deeper understanding of what happens inside attempts to learn model.\n",
    "1. Loss - A parameter to measure \"how far off\" you are from the ground truth. A model can learn nothing if doesn't have an understanding how to \"measure\" itself. If you go back to the analogy described earlier with f(x,y) = 2x + y, your mind arrived at this solution after trying a couple of functions like this f(x, y) = 7y. This function works for datapoint 1- f(7,3) but after you look at the second datapoint f(6,9), your mind tuned itself to exclude this function from consideration because 7(9) = 63. The loss = 63 - 21 = 42 is so large.\n",
    "2. Norm* - Normalization Term (aka Regularization term).\n",
    "3. Bias* - Bias Term\n",
    "4. Epoch - Full iteration of the training set"
   ]
  },
  {
   "cell_type": "markdown",
   "metadata": {},
   "source": [
    "## What happended behind the scenes?\n",
    "1. A model got trained. How?\n",
    "2. It took the training dataset(60000 samples)\n",
    "3. Divided them into batches of arbitrary size(batch_size usually a power of 2. Ex:128)\n",
    "4. It looked at a batch of data(say 128 examples and its corresponding ground truth value)\n",
    "5. Tried to learn a function(aka decision function) - Just like how your mind learned a function.\n",
    "6. Looked at another set of data(next batch 128 samples - Tried to apply the function that it learned. Evaluates itself using the loss function that you passed to it. Based on the loss function, it corrects the learned function by fine tuning its hyperparameters.\n",
    "7. Moves to the next data set until it finishes the entire training dataset.\n",
    "8. This process of iterating though the entire training set in batches is called one Epoch.\n",
    "9. After an epoch, you evaluate the model if it meets the terminating condition.\n",
    "10. If it meets the terminating condition, exit. If not shuffle the data and repeat.\n",
    "11. Terminating condition can be something as simple as an arbitrary number of epochs(say 50) or you can use a evaluation function like RMSE(Root Mean Squared Error)"
   ]
  },
  {
   "cell_type": "markdown",
   "metadata": {},
   "source": [
    "## Question\n",
    "1. What is a hyperparameter? Try to think of this using the simpler example f(x,y) = 2x + y\n",
    "2. Why is it important to shuffle the data after en epoch?\n",
    "3. Step 9 says we should evaluate our model before calling the epoch done. On what data should we evaluate our model? Try to think why training/test can/can't be used for the evaluation purposes?"
   ]
  },
  {
   "cell_type": "markdown",
   "metadata": {},
   "source": [
    "## Lets try to see if our model anything\n"
   ]
  },
  {
   "cell_type": "code",
   "execution_count": null,
   "metadata": {},
   "outputs": [],
   "source": [
    "display_image(X_test[5000]) #Pick an arbitrary image from the dataset and visualize it so we know what to expect"
   ]
  },
  {
   "cell_type": "code",
   "execution_count": null,
   "metadata": {},
   "outputs": [],
   "source": [
    "# Alight, my trained ML model, can you make a prediction for me?\n",
    "sgd.predict(X_test[5000].reshape(1,-1)) #Randomly "
   ]
  },
  {
   "cell_type": "markdown",
   "metadata": {},
   "source": [
    "Me: Alright, my ML model you say that it's a 4 but if you meet my professors who evaluate my exam papers they'd say that I write my 9 that way. #HumansVsAI\n",
    "\n",
    "AI: No. It's a 4. Have a look at the ground truth values if you have any doubts.\n",
    "\n",
    "Me: Alright."
   ]
  },
  {
   "cell_type": "code",
   "execution_count": null,
   "metadata": {},
   "outputs": [],
   "source": [
    "y_test[5000]"
   ]
  },
  {
   "cell_type": "markdown",
   "metadata": {},
   "source": [
    "Me: &lt;Insert your favorite man beating machine with a baseball bat meme>"
   ]
  },
  {
   "cell_type": "markdown",
   "metadata": {},
   "source": [
    "## Lets try to evaluate our ML model"
   ]
  },
  {
   "cell_type": "code",
   "execution_count": null,
   "metadata": {},
   "outputs": [],
   "source": [
    "## Evaluation Functions and Validation Schemes\n",
    "from sklearn.model_selection import cross_val_score, cross_val_predict ## Cross Validation. See below\n",
    "y_train_pred = cross_val_predict(sgd, X_train, y_train, cv=5) ## 5 Fold Cross Validation"
   ]
  },
  {
   "cell_type": "markdown",
   "metadata": {},
   "source": [
    "## K-Fold Cross Validation\n",
    "![alt K-fold Cross Validation](https://raw.githubusercontent.com/ArulselvanMadhavan/ml-study-group/master/resources/images/k-fold-diagram.png \"K-Fold cross validation\")\n",
    "\n",
    "Note: Test Fold is also called as Validation Set in some literature.\n",
    "\n",
    "[Source:http://karlrosaen.com/ml/learning-log/2016-06-20/](http://karlrosaen.com/ml/learning-log/2016-06-20/)"
   ]
  },
  {
   "cell_type": "markdown",
   "metadata": {},
   "source": [
    "## Question\n",
    "1. Why is Cross Validation important?"
   ]
  },
  {
   "cell_type": "code",
   "execution_count": null,
   "metadata": {},
   "outputs": [],
   "source": [
    "y_train_pred[:10] ##Lets look at the predictions for the first 10 images."
   ]
  },
  {
   "cell_type": "markdown",
   "metadata": {},
   "source": [
    "## Question\n",
    "1. Can you define the notion of accuracy for our problem? When do you say a prediction is correct for a single image? How do you accumulate that notion for the entire data set?"
   ]
  },
  {
   "cell_type": "code",
   "execution_count": null,
   "metadata": {
    "collapsed": true
   },
   "outputs": [],
   "source": [
    "## Accuracy \n",
    "def accuracy(truth, predictions):\n",
    "    return (np.sum(truth == predictions) / truth.size)"
   ]
  },
  {
   "cell_type": "code",
   "execution_count": null,
   "metadata": {},
   "outputs": [],
   "source": [
    "accuracy(y_train, y_train_pred) #Train Accuracy of around 84%"
   ]
  },
  {
   "cell_type": "markdown",
   "metadata": {},
   "source": [
    "## Question\n",
    "It should be fairly trivial to define what they mean but can you reason about where they should be used in the lifecycle of a ML model and what reasonable inferences can be made from them?\n",
    "1. Training Set Accuracy\n",
    "2. Validation Set Accuracy\n",
    "3. Test Set Accuracy"
   ]
  },
  {
   "cell_type": "markdown",
   "metadata": {},
   "source": [
    "## How can we improve accuracy?\n",
    "\n",
    "1. As I mentioned earlier machines can interpret numbers well and humans can interpret information from arrregated data(in most cases aggregated data is represented via visual medium). It is very effective compared to just looking at numbers.\n",
    "2. One of the tools that they use to understand model performance and make reasonable tweaks to ML model is called confusion matrix."
   ]
  },
  {
   "cell_type": "code",
   "execution_count": null,
   "metadata": {},
   "outputs": [],
   "source": [
    "from sklearn.metrics import confusion_matrix\n",
    "conf_mx = confusion_matrix(y_train, y_train_pred)\n",
    "conf_mx"
   ]
  },
  {
   "cell_type": "code",
   "execution_count": null,
   "metadata": {},
   "outputs": [],
   "source": [
    "conf_mx.shape #Confusion matrix is a num_of_classes x num_of_classes matrix."
   ]
  },
  {
   "cell_type": "code",
   "execution_count": null,
   "metadata": {},
   "outputs": [],
   "source": [
    "plt.matshow(conf_mx, cmap=plt.cm.gray)\n",
    "plt.show()"
   ]
  },
  {
   "cell_type": "markdown",
   "metadata": {},
   "source": [
    "# Question\n",
    "1. By just looking at the picture, can you reason why this is a handy tool to understand and tweak a ML model?"
   ]
  },
  {
   "cell_type": "markdown",
   "metadata": {},
   "source": [
    "## Types of MultiClass Classification \n",
    "1. One Vs One Classifier\n",
    "2. One Vs Rest Classifier"
   ]
  },
  {
   "cell_type": "markdown",
   "metadata": {},
   "source": [
    "## Topics for Next week?"
   ]
  },
  {
   "cell_type": "code",
   "execution_count": null,
   "metadata": {
    "collapsed": true
   },
   "outputs": [],
   "source": []
  }
 ],
 "metadata": {
  "kernelspec": {
   "display_name": "Python 3",
   "language": "python",
   "name": "python3"
  },
  "language_info": {
   "codemirror_mode": {
    "name": "ipython",
    "version": 3
   },
   "file_extension": ".py",
   "mimetype": "text/x-python",
   "name": "python",
   "nbconvert_exporter": "python",
   "pygments_lexer": "ipython3",
   "version": "3.6.3"
  }
 },
 "nbformat": 4,
 "nbformat_minor": 2
}
