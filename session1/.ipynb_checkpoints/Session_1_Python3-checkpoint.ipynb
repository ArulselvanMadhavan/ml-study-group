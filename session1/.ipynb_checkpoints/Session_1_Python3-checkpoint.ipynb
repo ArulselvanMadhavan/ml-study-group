{
 "cells": [
  {
   "cell_type": "markdown",
   "metadata": {},
   "source": [
    "# Week 1: Meeting Date: 12/13/2017\n",
    "## Goals: \n",
    "1. Get introduced to machine learning terminologies.\n",
    "2. The steps involved in building any machine learning model\n",
    "3. Problems involved in applying machine learning\n",
    "\n",
    "Study Resources:\n",
    "1. [Machine Learning - A Probabilistic Perspective](http://www.cs.ubc.ca/~murphyk/MLbook/pml-intro-5nov11.pdf)\n",
    "2. [Hands On Machine Learning](https://www.safaribooksonline.com/library/view/hands-on-machine-learning/9781491962282/ch01.html) (Requires access to safari books online)"
   ]
  },
  {
   "cell_type": "markdown",
   "metadata": {},
   "source": [
    "\n",
    "## Goal of Machine Learning\n",
    "The goal of machine learning is to develop methods that\n",
    "can automatically detect patterns in data, and then to use the uncovered patterns to predict\n",
    "future data or other outcomes of interest."
   ]
  },
  {
   "cell_type": "markdown",
   "metadata": {},
   "source": [
    "## Applications\n",
    "Fields Ripe for applying Machine Learning(includes but not limited to)\n",
    "1. Computer Vision\n",
    "2. Robotics\n",
    "3. Text Processing(Natural Language Processing)\n",
    "\n",
    "Almost any field that you can think of right now, has machine learning applied to it in one form or the other. Although the complexity of the algorithms involved in them may vary."
   ]
  },
  {
   "cell_type": "markdown",
   "metadata": {},
   "source": [
    "## What is needed?\n",
    "Machine Learning is less fun without understanding the math behind the algorithms. Although, it is not the objective of this study group to delve into the math, it certainly can act as a helpful resource for motivated people.\n",
    "\n",
    "In that vein, here are the math topics that you might want to start learning.\n",
    "1. Multivariate Calculus\n",
    "2. Probability\n",
    "3. Linear Algebra\n",
    "4. Basic Computer Programming"
   ]
  },
  {
   "cell_type": "markdown",
   "metadata": {},
   "source": [
    "## Lets look at some of the Machine Learning terms by building a machine learning model\n",
    "1. Dataset\n",
    "2. Features\n",
    "3. Labels\n",
    "4. Classification vs Regression"
   ]
  },
  {
   "cell_type": "code",
   "execution_count": 1,
   "metadata": {},
   "outputs": [],
   "source": [
    "## Load Sample dataset\n",
    "from sklearn.datasets import fetch_mldata\n",
    "# Dataset - D\n",
    "D = fetch_mldata(\"MNIST original\", data_home=\"../data\") #Takes a long time. TODO: Bypass this "
   ]
  },
  {
   "cell_type": "markdown",
   "metadata": {},
   "source": [
    "1. Features - Attributes of the input data(aka Attributes or Covariates)\n",
    "2. Labels - Target(aka Result/Truth)\n",
    "3. Common Convention is to call features as X and labels as y"
   ]
  },
  {
   "cell_type": "code",
   "execution_count": 12,
   "metadata": {},
   "outputs": [],
   "source": [
    "X = D[\"data\"]\n",
    "y = D[\"target\"]"
   ]
  },
  {
   "cell_type": "code",
   "execution_count": 11,
   "metadata": {},
   "outputs": [
    {
     "name": "stdout",
     "output_type": "stream",
     "text": [
      "Feature Shape (70000, 784)\n",
      "Target Matrix shape (70000,)\n"
     ]
    }
   ],
   "source": [
    "print(\"Feature Shape\", X.shape)\n",
    "print(\"Target Matrix shape\", y.shape)"
   ]
  },
  {
   "cell_type": "code",
   "execution_count": 20,
   "metadata": {},
   "outputs": [
    {
     "name": "stdout",
     "output_type": "stream",
     "text": [
      "Viewing a single input of shape(1,784).\n",
      " [  0   0   0   0   0   0   0   0   0   0   0   0   0   0   0   0   0   0\n",
      "   0   0   0   0   0   0   0   0   0   0   0   0   0   0   0   0   0   0\n",
      "   0   0   0   0   0   0   0   0   0   0   0   0   0   0   0   0   0   0\n",
      "   0   0   0   0   0   0   0   0   0   0   0   0   0   0   0   0   0   0\n",
      "   0   0   0   0   0   0   0   0   0   0   0   0   0   0   0   0   0   0\n",
      "   0   0   0   0   0   0   0   0   0   0   0   0   0   0   0   0   0   0\n",
      "   0   0   0   0   0   0   0   0   0   0   0   0   0   0   0   0   0   0\n",
      "   0  51 159 253 159  50   0   0   0   0   0   0   0   0   0   0   0   0\n",
      "   0   0   0   0   0   0   0   0   0   0  48 238 252 252 252 237   0   0\n",
      "   0   0   0   0   0   0   0   0   0   0   0   0   0   0   0   0   0   0\n",
      "   0  54 227 253 252 239 233 252  57   6   0   0   0   0   0   0   0   0\n",
      "   0   0   0   0   0   0   0   0   0  10  60 224 252 253 252 202  84 252\n",
      " 253 122   0   0   0   0   0   0   0   0   0   0   0   0   0   0   0   0\n",
      "   0 163 252 252 252 253 252 252  96 189 253 167   0   0   0   0   0   0\n",
      "   0   0   0   0   0   0   0   0   0   0  51 238 253 253 190 114 253 228\n",
      "  47  79 255 168   0   0   0   0   0   0   0   0   0   0   0   0   0   0\n",
      "   0  48 238 252 252 179  12  75 121  21   0   0 253 243  50   0   0   0\n",
      "   0   0   0   0   0   0   0   0   0   0  38 165 253 233 208  84   0   0\n",
      "   0   0   0   0 253 252 165   0   0   0   0   0   0   0   0   0   0   0\n",
      "   0   7 178 252 240  71  19  28   0   0   0   0   0   0 253 252 195   0\n",
      "   0   0   0   0   0   0   0   0   0   0   0  57 252 252  63   0   0   0\n",
      "   0   0   0   0   0   0 253 252 195   0   0   0   0   0   0   0   0   0\n",
      "   0   0   0 198 253 190   0   0   0   0   0   0   0   0   0   0 255 253\n",
      " 196   0   0   0   0   0   0   0   0   0   0   0  76 246 252 112   0   0\n",
      "   0   0   0   0   0   0   0   0 253 252 148   0   0   0   0   0   0   0\n",
      "   0   0   0   0  85 252 230  25   0   0   0   0   0   0   0   0   7 135\n",
      " 253 186  12   0   0   0   0   0   0   0   0   0   0   0  85 252 223   0\n",
      "   0   0   0   0   0   0   0   7 131 252 225  71   0   0   0   0   0   0\n",
      "   0   0   0   0   0   0  85 252 145   0   0   0   0   0   0   0  48 165\n",
      " 252 173   0   0   0   0   0   0   0   0   0   0   0   0   0   0  86 253\n",
      " 225   0   0   0   0   0   0 114 238 253 162   0   0   0   0   0   0   0\n",
      "   0   0   0   0   0   0   0   0  85 252 249 146  48  29  85 178 225 253\n",
      " 223 167  56   0   0   0   0   0   0   0   0   0   0   0   0   0   0   0\n",
      "  85 252 252 252 229 215 252 252 252 196 130   0   0   0   0   0   0   0\n",
      "   0   0   0   0   0   0   0   0   0   0  28 199 252 252 253 252 252 233\n",
      " 145   0   0   0   0   0   0   0   0   0   0   0   0   0   0   0   0   0\n",
      "   0   0   0  25 128 252 253 252 141  37   0   0   0   0   0   0   0   0\n",
      "   0   0   0   0   0   0   0   0   0   0   0   0   0   0   0   0   0   0\n",
      "   0   0   0   0   0   0   0   0   0   0   0   0   0   0   0   0   0   0\n",
      "   0   0   0   0   0   0   0   0   0   0   0   0   0   0   0   0   0   0\n",
      "   0   0   0   0   0   0   0   0   0   0   0   0   0   0   0   0   0   0\n",
      "   0   0   0   0   0   0   0   0   0   0   0   0   0   0   0   0   0   0\n",
      "   0   0   0   0   0   0   0   0   0   0   0   0   0   0   0   0   0   0\n",
      "   0   0   0   0   0   0   0   0   0   0]\n"
     ]
    }
   ],
   "source": [
    "print(\"Viewing a single input of shape(1,784).\\n\", X[0])"
   ]
  },
  {
   "cell_type": "markdown",
   "metadata": {},
   "source": [
    "## Question\n",
    "1. What can you infer from this sample datapoint? Try to infer as many patterns/characteristics/attributes as possible"
   ]
  },
  {
   "cell_type": "code",
   "execution_count": 25,
   "metadata": {},
   "outputs": [
    {
     "name": "stdout",
     "output_type": "stream",
     "text": [
      "Label for the same input 0.0\n",
      "Labels for some more input [ 0.  0.  0. ...,  1.  1.  1.]\n"
     ]
    }
   ],
   "source": [
    "print(\"Label for the same input\", y[0])\n",
    "print(\"Labels for some more input\", y[:10000])"
   ]
  },
  {
   "cell_type": "markdown",
   "metadata": {},
   "source": [
    "### 1. Numbers are hard to interpret by humans but machines prefer to interpret numbers\n",
    "### 2. A very common, important and most time consuming first step to build any machine learning model is to analyze the data to make reasonable inferences about the data we are working with. Visual Analysis is often preferred as a first step because humans can quickly interpret them."
   ]
  },
  {
   "cell_type": "code",
   "execution_count": 27,
   "metadata": {},
   "outputs": [
    {
     "data": {
      "image/png": "[encoded data removed]",
      "text/plain": [
       "<matplotlib.figure.Figure at 0x1a15963fd0>"
      ]
     },
     "metadata": {},
     "output_type": "display_data"
    }
   ],
   "source": [
    "%matplotlib inline\n",
    "import matplotlib\n",
    "import matplotlib.pyplot as plt\n",
    "\n",
    "some_digit = X[0]\n",
    "some_digit_image = some_digit.reshape(28, 28)\n",
    "\n",
    "plt.imshow(some_digit_image, cmap = matplotlib.cm.binary,\n",
    "           interpolation=\"nearest\")\n",
    "plt.axis(\"off\")\n",
    "plt.show()"
   ]
  },
  {
   "cell_type": "markdown",
   "metadata": {},
   "source": [
    "## Training Set\n",
    "Usually a portion of the dataset(D) that is reserved for training the ML model.\n",
    "## Test Set\n",
    "Usually a portion of the dataset(D) that is reserved for testing the ML model.\n",
    "\n",
    "Note: \n",
    "1. Training Set and Test set should be mutually exclusive.\n",
    "2. There are different ways to prepare this training set and test set. Most common one is called cross validation folds. We will discuss this later."
   ]
  },
  {
   "cell_type": "code",
   "execution_count": 28,
   "metadata": {
    "collapsed": true
   },
   "outputs": [],
   "source": [
    "X_train, X_test, y_train, y_test = X[:60000], X[60000:], y[:60000], y[60000:]"
   ]
  },
  {
   "cell_type": "markdown",
   "metadata": {},
   "source": [
    "### Question: \n",
    "1. What is the size of this training data and target?\n",
    "2. What is the size of the test data and target?"
   ]
  },
  {
   "cell_type": "markdown",
   "metadata": {
    "collapsed": true
   },
   "source": [
    "## Classification vs Regression\n",
    "1. Output Variables can in principle be anything, but if they fall within a finite set of classes - we call it a categorial variable or nominal variable - Classfication\n",
    "2. If the output variable is real values then the machine learning model is called a Regression."
   ]
  },
  {
   "cell_type": "code",
   "execution_count": 29,
   "metadata": {},
   "outputs": [
    {
     "data": {
      "text/plain": [
       "array([ 0.,  1.,  2.,  3.,  4.,  5.,  6.,  7.,  8.,  9.])"
      ]
     },
     "execution_count": 29,
     "metadata": {},
     "output_type": "execute_result"
    }
   ],
   "source": [
    "import numpy as np\n",
    "np.unique(y)"
   ]
  },
  {
   "cell_type": "markdown",
   "metadata": {},
   "source": [
    "## Question:\n",
    "1. What do we have here? Classification Problem or Regression Problem?"
   ]
  },
  {
   "cell_type": "code",
   "execution_count": 31,
   "metadata": {},
   "outputs": [],
   "source": [
    "#Earlier we had mentioned that there are multiple ways to prepare the train data and test data.\n",
    "#What we have below is the most naive way. \n",
    "#A random shuffle.\n",
    "shuffle_index = np.random.permutation(60000) #Shuffle numbers 0 to 59999\n",
    "X_train, y_train = X_train[shuffle_index], y_train[shuffle_index] #Shuffle the train data"
   ]
  },
  {
   "cell_type": "markdown",
   "metadata": {},
   "source": [
    "## Questions\n",
    "1. Why do we have to shuffle the data?\n",
    "2. You see the training data shuffled here. Should we shuffle the test_data too?"
   ]
  },
  {
   "cell_type": "markdown",
   "metadata": {},
   "source": [
    "### Lets the following learn from building a Machine Learning Model"
   ]
  },
  {
   "cell_type": "markdown",
   "metadata": {},
   "source": [
    "1. Classifier\n",
    "2. Binary Classifiers\n",
    "3. MultiClass Classifier.\n",
    "3. MultiLabel Classifier\n",
    "4. MultiOutput Classifier"
   ]
  },
  {
   "cell_type": "markdown",
   "metadata": {},
   "source": [
    "## Question\n",
    "1. Just by looking at the names above, can you guess what's the difference in the output produced by these classifiers?"
   ]
  },
  {
   "cell_type": "markdown",
   "metadata": {},
   "source": [
    "## Machine Learning model\n",
    "The term \"model\" is one of the overused and least described terms in ML. A Model is a system that has been \"trained\" to detect patterns from a dataset and is ready to make predictions on any input.\n",
    "\n",
    "Lets look at a very simple, hand wavy version of model.\n",
    "\n",
    "You might have seen posts in so many useless social media sites like the one shown below:\n",
    "\n",
    "If f(9, 3) = 21, f(6,9) = 21, f(3, 8) = 14, What is f(4,5)?\n",
    "The human mind is so fast to recognize the pattern from the three data points and three target values, our human mind is so quick to recognize the pattern and predict the answer 13. It also correctly \"learns\" that the underlying function producing the pattern is \"f(x,y) = 2x + y\".\n",
    "\n",
    "Think of the ML model as something that can learn this on a really huge dataset"
   ]
  },
  {
   "cell_type": "code",
   "execution_count": 38,
   "metadata": {
    "collapsed": true
   },
   "outputs": [],
   "source": [
    "from sklearn.linear_model import SGDClassifier #Stochastic Gradient Classifier. Don't worry about this now."
   ]
  },
  {
   "cell_type": "code",
   "execution_count": 37,
   "metadata": {},
   "outputs": [
    {
     "name": "stderr",
     "output_type": "stream",
     "text": [
      "/anaconda2/envs/ml3/lib/python3.6/site-packages/sklearn/linear_model/stochastic_gradient.py:128: FutureWarning: max_iter and tol parameters have been added in <class 'sklearn.linear_model.stochastic_gradient.SGDClassifier'> in 0.19. If both are left unset, they default to max_iter=5 and tol=None. If tol is not None, max_iter defaults to max_iter=1000. From 0.21, default max_iter will be 1000, and default tol will be 1e-3.\n",
      "  \"and default tol will be 1e-3.\" % type(self), FutureWarning)\n"
     ]
    },
    {
     "name": "stdout",
     "output_type": "stream",
     "text": [
      "-- Epoch 1\n",
      "Norm: 6801.30, NNZs: 617, Bias: -153.117715, T: 60000, Avg. loss: 37420.485026\n",
      "Total training time: 0.07 seconds.\n",
      "-- Epoch 2\n",
      "Norm: 4222.04, NNZs: 634, Bias: -167.458963, T: 120000, Avg. loss: 5183.638390\n",
      "Total training time: 0.14 seconds.\n",
      "-- Epoch 3\n",
      "Norm: 3291.77, NNZs: 641, Bias: -175.614238, T: 180000, Avg. loss: 2816.025641\n",
      "Total training time: 0.21 seconds.\n",
      "-- Epoch 4\n",
      "Norm: 2704.40, NNZs: 642, Bias: -180.798345, T: 240000, Avg. loss: 1984.087809\n",
      "Total training time: 0.30 seconds.\n",
      "-- Epoch 5\n",
      "Norm: 2333.12, NNZs: 647, Bias: -184.824344, T: 300000, Avg. loss: 1516.939730\n",
      "Total training time: 0.38 seconds.\n",
      "-- Epoch 1\n",
      "Norm: 4627.12, NNZs: 579, Bias: -20.102713, T: 60000, Avg. loss: 18909.146168\n",
      "Total training time: 0.08 seconds.\n",
      "-- Epoch 2\n",
      "Norm: 2990.30, NNZs: 606, Bias: -23.759083, T: 120000, Avg. loss: 3016.850642\n",
      "Total training time: 0.15 seconds.\n",
      "-- Epoch 3\n",
      "Norm: 2270.97, NNZs: 614, Bias: -25.017077, T: 180000, Avg. loss: 1681.760200\n",
      "Total training time: 0.22 seconds.\n",
      "-- Epoch 4\n",
      "Norm: 1888.88, NNZs: 622, Bias: -26.440826, T: 240000, Avg. loss: 1183.096303\n",
      "Total training time: 0.29 seconds.\n",
      "-- Epoch 5\n",
      "Norm: 1641.68, NNZs: 627, Bias: -27.301028, T: 300000, Avg. loss: 898.309059\n",
      "Total training time: 0.36 seconds.\n",
      "-- Epoch 1\n",
      "Norm: 7242.01, NNZs: 647, Bias: -160.446553, T: 60000, Avg. loss: 72916.171120\n",
      "Total training time: 0.07 seconds.\n",
      "-- Epoch 2\n",
      "Norm: 4200.67, NNZs: 654, Bias: -174.531952, T: 120000, Avg. loss: 10750.262657\n",
      "Total training time: 0.14 seconds.\n",
      "-- Epoch 3\n",
      "Norm: 3030.49, NNZs: 661, Bias: -181.874132, T: 180000, Avg. loss: 6168.272918\n",
      "Total training time: 0.22 seconds.\n",
      "-- Epoch 4\n",
      "Norm: 2509.07, NNZs: 661, Bias: -187.438875, T: 240000, Avg. loss: 4441.826050\n",
      "Total training time: 0.29 seconds.\n",
      "-- Epoch 5\n",
      "Norm: 2117.26, NNZs: 662, Bias: -191.672790, T: 300000, Avg. loss: 3456.155903\n",
      "Total training time: 0.37 seconds.\n",
      "-- Epoch 1\n",
      "Norm: 6360.27, NNZs: 607, Bias: -239.726291, T: 60000, Avg. loss: 91242.318814\n",
      "Total training time: 0.09 seconds.\n",
      "-- Epoch 2\n",
      "Norm: 3877.02, NNZs: 621, Bias: -269.584905, T: 120000, Avg. loss: 14275.643479\n",
      "Total training time: 0.17 seconds.\n",
      "-- Epoch 3\n",
      "Norm: 2890.09, NNZs: 621, Bias: -285.376960, T: 180000, Avg. loss: 8212.559450\n",
      "Total training time: 0.26 seconds.\n",
      "-- Epoch 4\n",
      "Norm: 2354.91, NNZs: 622, Bias: -297.182840, T: 240000, Avg. loss: 5929.879458\n",
      "Total training time: 0.33 seconds.\n",
      "-- Epoch 5\n",
      "Norm: 1974.46, NNZs: 624, Bias: -305.670930, T: 300000, Avg. loss: 4513.085922\n",
      "Total training time: 0.42 seconds.\n",
      "-- Epoch 1\n",
      "Norm: 6573.88, NNZs: 646, Bias: -88.405304, T: 60000, Avg. loss: 54794.194228\n",
      "Total training time: 0.09 seconds.\n",
      "-- Epoch 2\n",
      "Norm: 4274.57, NNZs: 651, Bias: -96.164138, T: 120000, Avg. loss: 7599.020132\n",
      "Total training time: 0.17 seconds.\n",
      "-- Epoch 3\n",
      "Norm: 3281.89, NNZs: 662, Bias: -101.451740, T: 180000, Avg. loss: 4396.601606\n",
      "Total training time: 0.25 seconds.\n",
      "-- Epoch 4\n",
      "Norm: 2655.00, NNZs: 667, Bias: -104.778115, T: 240000, Avg. loss: 2913.299354\n",
      "Total training time: 0.34 seconds.\n",
      "-- Epoch 5\n",
      "Norm: 2288.79, NNZs: 668, Bias: -107.553633, T: 300000, Avg. loss: 2334.334407\n",
      "Total training time: 0.40 seconds.\n",
      "-- Epoch 1\n",
      "Norm: 7839.49, NNZs: 625, Bias: 41.422495, T: 60000, Avg. loss: 96951.960812\n",
      "Total training time: 0.08 seconds.\n",
      "-- Epoch 2\n",
      "Norm: 4720.22, NNZs: 636, Bias: 49.491579, T: 120000, Avg. loss: 13586.475544\n",
      "Total training time: 0.17 seconds.\n",
      "-- Epoch 3\n",
      "Norm: 3670.99, NNZs: 641, Bias: 54.023536, T: 180000, Avg. loss: 8000.413419\n",
      "Total training time: 0.25 seconds.\n",
      "-- Epoch 4\n",
      "Norm: 3037.70, NNZs: 646, Bias: 58.108423, T: 240000, Avg. loss: 5527.279482\n",
      "Total training time: 0.34 seconds.\n",
      "-- Epoch 5\n",
      "Norm: 2560.39, NNZs: 649, Bias: 60.446801, T: 300000, Avg. loss: 4232.201799\n",
      "Total training time: 0.43 seconds.\n",
      "-- Epoch 1\n",
      "Norm: 6084.32, NNZs: 591, Bias: -98.549158, T: 60000, Avg. loss: 42544.375546\n",
      "Total training time: 0.08 seconds.\n",
      "-- Epoch 2\n",
      "Norm: 3677.28, NNZs: 598, Bias: -114.275195, T: 120000, Avg. loss: 6919.356026\n",
      "Total training time: 0.17 seconds.\n",
      "-- Epoch 3\n",
      "Norm: 2735.69, NNZs: 600, Bias: -123.245485, T: 180000, Avg. loss: 3967.649019\n",
      "Total training time: 0.24 seconds.\n",
      "-- Epoch 4\n",
      "Norm: 2192.25, NNZs: 608, Bias: -129.551508, T: 240000, Avg. loss: 2830.065566\n",
      "Total training time: 0.31 seconds.\n",
      "-- Epoch 5\n",
      "Norm: 1897.95, NNZs: 608, Bias: -134.624523, T: 300000, Avg. loss: 2144.817369\n",
      "Total training time: 0.38 seconds.\n",
      "-- Epoch 1\n",
      "Norm: 5454.29, NNZs: 600, Bias: -25.912582, T: 60000, Avg. loss: 43127.253504\n",
      "Total training time: 0.07 seconds.\n",
      "-- Epoch 2\n",
      "Norm: 3347.66, NNZs: 615, Bias: -29.040390, T: 120000, Avg. loss: 6789.630621\n",
      "Total training time: 0.15 seconds.\n",
      "-- Epoch 3\n",
      "Norm: 2492.93, NNZs: 616, Bias: -29.957684, T: 180000, Avg. loss: 4002.593446\n",
      "Total training time: 0.22 seconds.\n",
      "-- Epoch 4\n",
      "Norm: 2058.54, NNZs: 627, Bias: -30.745959, T: 240000, Avg. loss: 2706.681191\n",
      "Total training time: 0.30 seconds.\n",
      "-- Epoch 5\n",
      "Norm: 1779.46, NNZs: 629, Bias: -31.688652, T: 300000, Avg. loss: 2044.069239\n",
      "Total training time: 0.38 seconds.\n",
      "-- Epoch 1\n",
      "Norm: 7120.95, NNZs: 628, Bias: -682.953703, T: 60000, Avg. loss: 165897.132455\n",
      "Total training time: 0.09 seconds.\n",
      "-- Epoch 2\n",
      "Norm: 4465.79, NNZs: 643, Bias: -765.854401, T: 120000, Avg. loss: 27086.379542\n",
      "Total training time: 0.17 seconds.\n",
      "-- Epoch 3\n",
      "Norm: 3350.74, NNZs: 645, Bias: -814.813051, T: 180000, Avg. loss: 15678.451571\n",
      "Total training time: 0.24 seconds.\n",
      "-- Epoch 4\n",
      "Norm: 2677.97, NNZs: 645, Bias: -847.875693, T: 240000, Avg. loss: 11234.971875\n",
      "Total training time: 0.31 seconds.\n",
      "-- Epoch 5\n",
      "Norm: 2277.76, NNZs: 651, Bias: -874.283834, T: 300000, Avg. loss: 8667.789639\n",
      "Total training time: 0.39 seconds.\n",
      "-- Epoch 1\n",
      "Norm: 7096.94, NNZs: 636, Bias: -250.388409, T: 60000, Avg. loss: 113542.246679\n",
      "Total training time: 0.08 seconds.\n",
      "-- Epoch 2\n",
      "Norm: 4270.82, NNZs: 646, Bias: -284.929336, T: 120000, Avg. loss: 17862.120795\n",
      "Total training time: 0.15 seconds.\n",
      "-- Epoch 3\n",
      "Norm: 3154.83, NNZs: 654, Bias: -305.843368, T: 180000, Avg. loss: 10350.557263\n",
      "Total training time: 0.23 seconds.\n",
      "-- Epoch 4\n",
      "Norm: 2564.59, NNZs: 660, Bias: -320.387277, T: 240000, Avg. loss: 7354.594881\n",
      "Total training time: 0.32 seconds.\n",
      "-- Epoch 5\n",
      "Norm: 2154.86, NNZs: 660, Bias: -332.176250, T: 300000, Avg. loss: 5662.941943\n",
      "Total training time: 0.41 seconds.\n"
     ]
    },
    {
     "name": "stderr",
     "output_type": "stream",
     "text": [
      "[Parallel(n_jobs=1)]: Done  10 out of  10 | elapsed:    3.9s finished\n"
     ]
    },
    {
     "data": {
      "text/plain": [
       "SGDClassifier(alpha=0.0001, average=False, class_weight=None, epsilon=0.1,\n",
       "       eta0=0.0, fit_intercept=True, l1_ratio=0.15,\n",
       "       learning_rate='optimal', loss='hinge', max_iter=None, n_iter=None,\n",
       "       n_jobs=1, penalty='l2', power_t=0.5, random_state=13, shuffle=True,\n",
       "       tol=None, verbose=1, warm_start=False)"
      ]
     },
     "execution_count": 37,
     "metadata": {},
     "output_type": "execute_result"
    }
   ],
   "source": [
    "scaler = StandardScaler()\n",
    "sgd = SGDClassifier(random_state=13, verbose=1)\n",
    "X_train_scaled = scaler.fit_transform(X_train.astype(np.float64))\n",
    "sgd.fit(X_train, y_train)"
   ]
  },
  {
   "cell_type": "markdown",
   "metadata": {},
   "source": [
    "## Lets look at all the parameters to a typical ML model\n",
    "The above steps spits out a buunch of words that are new and alien.\n",
    "\n",
    "They are ordered in terms of importance. Items marked as * requires a deeper understanding of what happens inside attempts to learn model.\n",
    "1. Loss - A parameter to measure \"how far off\" you are from the ground truth. A model can learn nothing if doesn't have an understanding how to \"measure\" itself. If you go back to the analogy described earlier with f(x,y) = 2x + y, your mind arrived at this solution after trying a couple of functions like this f(x, y) = 7y. This function works for datapoint 1- f(7,3) but after you look at the second datapoint f(6,9), your mind correctly excluded this function from consideration because 7(9) = 63. The loss = 63 - 21 = 42 is so large.\n",
    "2. Norm* - Normalization Term (aka Regularization term, Penalty).\n",
    "3. Bias* - Bias Term\n",
    "4. Epoch - Full iteration of the training set"
   ]
  },
  {
   "cell_type": "markdown",
   "metadata": {},
   "source": [
    "## What happended behind the scenes?\n",
    "1. A model got trained. How?\n",
    "2. It took the training dataset(60000 samples)\n",
    "3. Divided them into batches of arbitrary size(batch_size usually a power of 2. Ex:128)\n",
    "4. It looked at a batch of data(say 128 examples and its corresponding ground truth value)\n",
    "5. Tried to learn a function(aka decision function) - Just like how your mind learned a function.\n",
    "6. Looked at another set of data(next batch 128 samples - Tried to apply the function that it learned. Evaluates itself using the loss function that you passed to it. Based on the loss function, it corrects the learned function by fine tuning its hyperparameters.\n",
    "7. Moves to the next data set until it finishes the entire training dataset.\n",
    "8. This process of iterating though the entire training set in batches is called one Epoch.\n",
    "9. After an epoch, you evaluate the model if it meets the terminating condition.\n",
    "10. If it meets the terminating condition, exit. If not repeat.\n",
    "11. Terminating condition can be something as simple as an arbitrary number of epochs(say 50) or you can use a evaluation function like RMSE(Root Mean Squared Error)"
   ]
  },
  {
   "cell_type": "markdown",
   "metadata": {},
   "source": []
  },
  {
   "cell_type": "code",
   "execution_count": 3,
   "metadata": {},
   "outputs": [
    {
     "ename": "SyntaxError",
     "evalue": "invalid syntax (<ipython-input-3-2c1899388836>, line 2)",
     "output_type": "error",
     "traceback": [
      "\u001b[0;36m  File \u001b[0;32m\"<ipython-input-3-2c1899388836>\"\u001b[0;36m, line \u001b[0;32m2\u001b[0m\n\u001b[0;31m    1. Long Tail Problem\u001b[0m\n\u001b[0m          ^\u001b[0m\n\u001b[0;31mSyntaxError\u001b[0m\u001b[0;31m:\u001b[0m invalid syntax\n"
     ]
    }
   ],
   "source": [
    "## Problems in Machine Learning\n",
    "1. Long Tail Problem\n",
    "![alt text](https://github.com/ArulselvanMadhavan/ml-study-group/raw/master/resources/images/Long_Tail_Problem.jpg \"Long Tail Problem\")\n",
    "[Source: http://www.longtail.com/about.html](http://www.longtail.com/about.html)"
   ]
  },
  {
   "cell_type": "code",
   "execution_count": null,
   "metadata": {},
   "outputs": [],
   "source": [
    "## Action Items\n",
    "1. Feel free to invite any person that you know to this study group. The bigger our group gets the more ideas we get."
   ]
  },
  {
   "cell_type": "code",
   "execution_count": null,
   "metadata": {
    "collapsed": true
   },
   "outputs": [],
   "source": []
  }
 ],
 "metadata": {
  "kernelspec": {
   "display_name": "Python 3",
   "language": "python",
   "name": "python3"
  },
  "language_info": {
   "codemirror_mode": {
    "name": "ipython",
    "version": 3
   },
   "file_extension": ".py",
   "mimetype": "text/x-python",
   "name": "python",
   "nbconvert_exporter": "python",
   "pygments_lexer": "ipython3",
   "version": "3.6.3"
  }
 },
 "nbformat": 4,
 "nbformat_minor": 2
}
